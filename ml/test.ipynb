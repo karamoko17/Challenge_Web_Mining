{
 "cells": [
  {
   "cell_type": "code",
   "execution_count": 3,
   "metadata": {},
   "outputs": [],
   "source": [
    "import pandas as pd\n",
    "import numpy as np"
   ]
  },
  {
   "cell_type": "code",
   "execution_count": 4,
   "metadata": {},
   "outputs": [],
   "source": [
    "# Chargement des données\n",
    "df = pd.read_csv(\n",
    "    \"D:\\\\M2 SISE\\\\Web Mining\\\\Challenge_Web_Mining\\\\Data\\\\tcc_ceds_music.csv\",\n",
    "    sep=\";\",\n",
    "    encoding=\"ISO-8859-1\",\n",
    "    skipinitialspace=True,\n",
    "    on_bad_lines=\"skip\"\n",
    ")"
   ]
  },
  {
   "cell_type": "code",
   "execution_count": null,
   "metadata": {},
   "outputs": [],
   "source": [
    "df.head()"
   ]
  },
  {
   "cell_type": "markdown",
   "metadata": {},
   "source": [
    "# Verification si une musique exite ou pas "
   ]
  },
  {
   "cell_type": "code",
   "execution_count": null,
   "metadata": {},
   "outputs": [],
   "source": [
    "def song_exists(df, song_name, artist_name):\n",
    "    exists = not df[(df['track_name'].str.lower() == song_name.lower()) & \n",
    "                    (df['artist_name'].str.lower() == artist_name.lower())].empty\n",
    "    return exists"
   ]
  },
  {
   "cell_type": "code",
   "execution_count": 10,
   "metadata": {},
   "outputs": [
    {
     "name": "stdout",
     "output_type": "stream",
     "text": [
      "La chanson 'mohabbat bhi jhoothi' de 'mukesh' existe dans le fichier.\n"
     ]
    }
   ],
   "source": [
    "# Exemple d'utilisation\n",
    "song_name = \"mohabbat bhi jhoothi\"\n",
    "artist_name = \"mukesh\"\n",
    "\n",
    "if song_exists(df, song_name, artist_name):\n",
    "    print(f\"La chanson '{song_name}' de '{artist_name}' existe dans le fichier.\")\n",
    "else:\n",
    "    print(f\"La chanson '{song_name}' de '{artist_name}' n'existe pas dans le fichier.\")\n"
   ]
  },
  {
   "cell_type": "markdown",
   "metadata": {},
   "source": [
    "# Retrouver une chanson en tapant une partie des paroles."
   ]
  },
  {
   "cell_type": "code",
   "execution_count": 17,
   "metadata": {},
   "outputs": [
    {
     "name": "stderr",
     "output_type": "stream",
     "text": [
      "C:\\Users\\karam\\AppData\\Local\\Packages\\PythonSoftwareFoundation.Python.3.11_qbz5n2kfra8p0\\LocalCache\\local-packages\\Python311\\site-packages\\tqdm\\auto.py:21: TqdmWarning: IProgress not found. Please update jupyter and ipywidgets. See https://ipywidgets.readthedocs.io/en/stable/user_install.html\n",
      "  from .autonotebook import tqdm as notebook_tqdm\n",
      "C:\\Users\\karam\\AppData\\Local\\Packages\\PythonSoftwareFoundation.Python.3.11_qbz5n2kfra8p0\\LocalCache\\local-packages\\Python311\\site-packages\\huggingface_hub\\file_download.py:142: UserWarning: `huggingface_hub` cache-system uses symlinks by default to efficiently store duplicated files but your machine does not support them in C:\\Users\\karam\\.cache\\huggingface\\hub\\models--sentence-transformers--all-MiniLM-L6-v2. Caching files will still work but in a degraded version that might require more space on your disk. This warning can be disabled by setting the `HF_HUB_DISABLE_SYMLINKS_WARNING` environment variable. For more details, see https://huggingface.co/docs/huggingface_hub/how-to-cache#limitations.\n",
      "To support symlinks on Windows, you either need to activate Developer Mode or to run Python as an administrator. In order to activate developer mode, see this article: https://docs.microsoft.com/en-us/windows/apps/get-started/enable-your-device-for-development\n",
      "  warnings.warn(message)\n"
     ]
    }
   ],
   "source": [
    "import faiss\n",
    "from sentence_transformers import SentenceTransformer\n",
    "\n",
    "# Charger le modèle SBERT pour les embeddings\n",
    "model = SentenceTransformer(\"sentence-transformers/all-MiniLM-L6-v2\")\n",
    "\n",
    "# Nettoyer les valeurs manquantes\n",
    "df = df.dropna(subset=[\"lyrics\"])\n",
    "\n",
    "# Calculer les embeddings des paroles de chaque chanson\n",
    "lyrics_embeddings = model.encode(df[\"lyrics\"].tolist(), convert_to_numpy=True)\n",
    "\n",
    "# Normaliser les embeddings (meilleur pour FAISS)\n",
    "lyrics_embeddings = lyrics_embeddings / np.linalg.norm(lyrics_embeddings, axis=1, keepdims=True)\n",
    "\n",
    "# Créer un index FAISS\n",
    "d = lyrics_embeddings.shape[1]  # Dimension des embeddings\n",
    "index = faiss.IndexFlatIP(d)  # Index de similarité cosinus\n",
    "index.add(lyrics_embeddings)   # Ajouter les embeddings des chansons\n",
    "\n",
    "# Fonction de recherche\n",
    "def search_song(query, top_k=5):\n",
    "    query_embedding = model.encode([query], convert_to_numpy=True)\n",
    "    query_embedding = query_embedding / np.linalg.norm(query_embedding)  # Normalisation\n",
    "    \n",
    "    # Recherche des k chansons les plus proches\n",
    "    distances, indices = index.search(query_embedding, top_k)\n",
    "    \n",
    "    # Afficher les résultats\n",
    "    results = df.iloc[indices[0]][[\"artist_name\", \"track_name\", \"lyrics\"]]\n",
    "    results[\"similarity\"] = distances[0]\n",
    "    \n",
    "    return results"
   ]
  },
  {
   "cell_type": "code",
   "execution_count": 24,
   "metadata": {},
   "outputs": [
    {
     "name": "stdout",
     "output_type": "stream",
     "text": [
      "\n",
      "🔎 Résultats de la recherche :\n",
      "\n",
      "4070. emergency on planet earth - jamiroquai (Similarité: 0.41)\n",
      "   🎵 Paroles : kid need education streets clean see certain disposition prevail wind sweet change anybody listen emergency planet earth life witness waste birth emergency emergency planet earth emergency emergency p...\n",
      "\n",
      "8373. let's build a world together - george jones (Similarité: 0.38)\n",
      "   🎵 Paroles : want want want want child want mother want need need need tell need woman need garden live forever build world world safe matter happen forever...\n",
      "\n",
      "24367. another brick in the wall, pt. 2 - pink floyd (Similarité: 0.38)\n",
      "   🎵 Paroles : need education need think control dark sarcasm classroom teachers leave kid teacher leave kid brick wall lyric commercial...\n",
      "\n",
      "7462. when i've learned - johnny cash (Similarité: 0.35)\n",
      "   🎵 Paroles : learn live master knees test try see heaven paint field country husband wife hear newborn baby learn live hard work stop place tire inspire night learn kinda like earth time wonder learn live learn li...\n",
      "\n",
      "25133. i want out - helloween (Similarité: 0.34)\n",
      "   🎵 Paroles : live begin push little form ask like school teach think say different things convince ones talk stop certain point thing leave think want live life want leave want things want lyric commercial...\n",
      "\n",
      "21973. messenger - luciano (Similarité: 0.34)\n",
      "   🎵 Paroles : send messenger teach youths root culture tell massive remember dats deal iyah sing bout bump forget woman time place talk bout talk bout bus gatlin dont time mingle remember send falter work look work...\n",
      "\n",
      "17438. teach me tonight - blossom dearie (Similarité: 0.34)\n",
      "   🎵 Paroles : learn think try learn perfect spot learn teach tonight start get right help solve mystery teach tonight blackboard high shoot go write thousand time thing clear teachers shouldn stand near graduation ...\n",
      "\n",
      "2862. jean is dead - descendents (Similarité: 0.33)\n",
      "   🎵 Paroles : early school tell know go mother tell night phone help take buy ring go go tell know go go go go go tell know go...\n",
      "\n",
      "21940. tonight - frankie paul (Similarité: 0.33)\n",
      "   🎵 Paroles : writers cahnde learn think try learn perfect spot learn teach tonight start get right help solve mystery teach tonight blackboard high shoot go write thousand time thing clear teachers shouldn stand n...\n",
      "\n",
      "3007. help you ann - lyres (Similarité: 0.33)\n",
      "   🎵 Paroles : talk like fool feel put cynical spend money things free wanna hurt best wanna wanna help steal money yeah apartment choo choo train good kill snatch right want spend money save cause want say wanna wa...\n",
      "\n"
     ]
    }
   ],
   "source": [
    "# Exemple d'utilisation\n",
    "query = \"I need no education\"  # Partie de paroles\n",
    "results = search_song(query, top_k=10)\n",
    "\n",
    "print(\"\\n🔎 Résultats de la recherche :\\n\")\n",
    "for i, row in results.iterrows():\n",
    "    print(f\"{i+1}. {row['track_name']} - {row['artist_name']} (Similarité: {row['similarity']:.2f})\")\n",
    "    print(f\"   🎵 Paroles : {row['lyrics'][:200]}...\\n\")\n"
   ]
  },
  {
   "cell_type": "markdown",
   "metadata": {},
   "source": [
    "# un pu optimiser"
   ]
  },
  {
   "cell_type": "code",
   "execution_count": 28,
   "metadata": {},
   "outputs": [
    {
     "name": "stdout",
     "output_type": "stream",
     "text": [
      "🔹 Chargement des embeddings et de l’index FAISS...\n",
      "✅ Moteur de recherche chargé avec succès !\n"
     ]
    }
   ],
   "source": [
    "import os\n",
    "\n",
    "# Charger le modèle SBERT\n",
    "model = SentenceTransformer(\"sentence-transformers/all-MiniLM-L6-v2\")\n",
    "\n",
    "# Fichier CSV contenant les paroles des chansons\n",
    "EMBEDDINGS_FILE = \"lyrics_embeddings.npy\"\n",
    "FAISS_INDEX_FILE = \"faiss_index.bin\"\n",
    "\n",
    "# Charger les données\n",
    "df = df.dropna(subset=[\"lyrics\"])  # Supprimer les lignes avec paroles manquantes\n",
    "lyrics_list = df[\"lyrics\"].tolist()\n",
    "\n",
    "# Vérifier si les embeddings sont déjà calculés\n",
    "if os.path.exists(EMBEDDINGS_FILE) and os.path.exists(FAISS_INDEX_FILE):\n",
    "    print(\"🔹 Chargement des embeddings et de l’index FAISS...\")\n",
    "    lyrics_embeddings = np.load(EMBEDDINGS_FILE)\n",
    "    index = faiss.read_index(FAISS_INDEX_FILE)\n",
    "else:\n",
    "    print(\"⚡ Calcul des embeddings...\")\n",
    "    lyrics_embeddings = model.encode(lyrics_list, convert_to_numpy=True, batch_size=64)\n",
    "    lyrics_embeddings = lyrics_embeddings / np.linalg.norm(lyrics_embeddings, axis=1, keepdims=True)  # Normalisation\n",
    "\n",
    "    # Sauvegarde des embeddings\n",
    "    np.save(EMBEDDINGS_FILE, lyrics_embeddings)\n",
    "\n",
    "    # Création d’un index FAISS optimisé (approximation rapide)\n",
    "    d = lyrics_embeddings.shape[1]  # Dimension des embeddings\n",
    "    index = faiss.IndexHNSWFlat(d, 32)  # 32 voisins pour accélérer la recherche\n",
    "    index.add(lyrics_embeddings)\n",
    "\n",
    "    # Sauvegarde de l’index\n",
    "    faiss.write_index(index, FAISS_INDEX_FILE)\n",
    "\n",
    "print(\"✅ Moteur de recherche chargé avec succès !\")\n",
    "\n",
    "# Fonction de recherche optimisée\n",
    "def search_song(query, top_k=5):\n",
    "    query_embedding = model.encode([query], convert_to_numpy=True)\n",
    "    query_embedding = query_embedding / np.linalg.norm(query_embedding)  # Normalisation\n",
    "\n",
    "    distances, indices = index.search(query_embedding, top_k)\n",
    "    \n",
    "    results = df.iloc[indices[0]][[\"artist_name\", \"track_name\", \"lyrics\"]].copy()\n",
    "    results[\"similarity\"] = distances[0]\n",
    "\n",
    "    return results"
   ]
  },
  {
   "cell_type": "code",
   "execution_count": 27,
   "metadata": {},
   "outputs": [
    {
     "name": "stdout",
     "output_type": "stream",
     "text": [
      "\n",
      "🔎 Résultats de la recherche :\n",
      "\n",
      "24367. another brick in the wall, pt. 2 - pink floyd (Similarité: 1.14)\n",
      "   🎵 Paroles : need education need think control dark sarcasm classroom teachers leave kid teacher leave kid brick wall lyric commercial...\n",
      "\n",
      "4070. emergency on planet earth - jamiroquai (Similarité: 1.27)\n",
      "   🎵 Paroles : kid need education streets clean see certain disposition prevail wind sweet change anybody listen emergency planet earth life witness waste birth emergency emergency planet earth emergency emergency p...\n",
      "\n",
      "21973. messenger - luciano (Similarité: 1.29)\n",
      "   🎵 Paroles : send messenger teach youths root culture tell massive remember dats deal iyah sing bout bump forget woman time place talk bout talk bout bus gatlin dont time mingle remember send falter work look work...\n",
      "\n",
      "1772. i am your child - barry manilow (Similarité: 1.32)\n",
      "   🎵 Paroles : child know learn teach child come come tomorrow win teach child teach child...\n",
      "\n",
      "4155. rock star - hole (Similarité: 1.34)\n",
      "   🎵 Paroles : go schooloh go schoolha go school revolution go school look talk real fuck sick fuck real fuck go school look talk fuck go school real come sick come real yeah yeah yeah kid yeah kid yeah kid yeah kid...\n",
      "\n"
     ]
    }
   ],
   "source": [
    "# Exemple d'utilisation\n",
    "query = \"We don't need no education\"\n",
    "results = search_song(query, top_k=5)\n",
    "\n",
    "print(\"\\n🔎 Résultats de la recherche :\\n\")\n",
    "for i, row in results.iterrows():\n",
    "    print(f\"{i+1}. {row['track_name']} - {row['artist_name']} (Similarité: {row['similarity']:.2f})\")\n",
    "    print(f\"   🎵 Paroles : {row['lyrics'][:200]}...\\n\")\n"
   ]
  }
 ],
 "metadata": {
  "kernelspec": {
   "display_name": "Python 3",
   "language": "python",
   "name": "python3"
  },
  "language_info": {
   "codemirror_mode": {
    "name": "ipython",
    "version": 3
   },
   "file_extension": ".py",
   "mimetype": "text/x-python",
   "name": "python",
   "nbconvert_exporter": "python",
   "pygments_lexer": "ipython3",
   "version": "3.11.9"
  }
 },
 "nbformat": 4,
 "nbformat_minor": 2
}
